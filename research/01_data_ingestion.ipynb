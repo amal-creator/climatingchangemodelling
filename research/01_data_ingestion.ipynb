{
 "cells": [
  {
   "cell_type": "code",
   "execution_count": 1,
   "metadata": {},
   "outputs": [],
   "source": [
    "import os"
   ]
  },
  {
   "cell_type": "code",
   "execution_count": null,
   "metadata": {},
   "outputs": [],
   "source": [
    "\n"
   ]
  },
  {
   "cell_type": "code",
   "execution_count": 2,
   "metadata": {},
   "outputs": [
    {
     "data": {
      "text/plain": [
       "'d:\\\\projects\\\\unified mentor internship\\\\selected projects\\\\Climate Change Modeling\\\\climating_change_modelling\\\\climatingchangemodelling\\\\research'"
      ]
     },
     "execution_count": 2,
     "metadata": {},
     "output_type": "execute_result"
    }
   ],
   "source": [
    "%pwd"
   ]
  },
  {
   "cell_type": "code",
   "execution_count": 3,
   "metadata": {},
   "outputs": [],
   "source": [
    "os.chdir(\"../\")"
   ]
  },
  {
   "cell_type": "code",
   "execution_count": 4,
   "metadata": {},
   "outputs": [
    {
     "data": {
      "text/plain": [
       "'d:\\\\projects\\\\unified mentor internship\\\\selected projects\\\\Climate Change Modeling\\\\climating_change_modelling\\\\climatingchangemodelling'"
      ]
     },
     "execution_count": 4,
     "metadata": {},
     "output_type": "execute_result"
    }
   ],
   "source": [
    "%pwd"
   ]
  },
  {
   "cell_type": "code",
   "execution_count": 23,
   "metadata": {},
   "outputs": [],
   "source": [
    "from dataclasses import dataclass\n",
    "from pathlib import Path\n",
    "\n",
    "@dataclass(frozen=True)\n",
    "class DataIngestionConfig:\n",
    "    root_dir : Path\n",
    "    source_url : str\n",
    "    local_data_files : Path\n",
    "    unzip_dir : Path\n"
   ]
  },
  {
   "cell_type": "code",
   "execution_count": null,
   "metadata": {},
   "outputs": [],
   "source": [
    "from climatingchangemodelling.constants import *\n",
    "from climatingchangemodelling.utils.common import read_yaml,create_directories\n"
   ]
  },
  {
   "cell_type": "code",
   "execution_count": 25,
   "metadata": {},
   "outputs": [],
   "source": [
    "class ConfigurationManager:\n",
    "    def __init__(\n",
    "            self,\n",
    "            config_file = CONFIG_FILE_PATH,\n",
    "            params_file = PARAMS_FILE_PATH):\n",
    "        \n",
    "        self.config = read_yaml(config_file)\n",
    "        self.params = read_yaml(params_file)\n",
    "\n",
    "        create_directories([self.config.artifacts_root])\n",
    "\n",
    "\n",
    "    def get_data_injestion(self) -> DataIngestionConfig:\n",
    "\n",
    "        config = self.config.data_ingestion\n",
    "\n",
    "        create_directories([config.root_dir])\n",
    "        \n",
    "        data_ingestion_config= DataIngestionConfig(\n",
    "            root_dir=config.root_dir,\n",
    "            source_url =  config.source_url,\n",
    "            local_data_files  = config.local_data_files,\n",
    "            unzip_dir = config.unzip_dir\n",
    "        )\n",
    "        \n",
    "        return data_ingestion_config\n",
    "\n",
    "\n",
    "    \n",
    "    "
   ]
  },
  {
   "cell_type": "code",
   "execution_count": 26,
   "metadata": {},
   "outputs": [],
   "source": [
    "import os\n",
    "import zipfile\n",
    "from climatingchangemodelling.utils.common import get_size\n",
    "from climatingchangemodelling.logging import logger\n",
    "import urllib.request as request\n"
   ]
  },
  {
   "cell_type": "code",
   "execution_count": 29,
   "metadata": {},
   "outputs": [],
   "source": [
    "class DataIngestion:\n",
    "    def __init__(self, config = DataIngestionConfig):\n",
    "        self.config = config\n",
    "\n",
    "    def download_data(self):\n",
    "        # Download data from the source\n",
    "        if not os.path.exists(self.config.local_data_files) :\n",
    "            filename, headers = request.urlretrieve(\n",
    "                url=self.config.source_url,\n",
    "                filename=self.config.local_data_files\n",
    "            )\n",
    "            logger.info(f\" {filename} downloaded with following info : \\n {headers}\") \n",
    "        \n",
    "        else :\n",
    "            logger.info(f\"file already exist of size : {get_size(Path(self.config.local_data_files))}\")\n",
    "\n",
    "    def extract_zip_file(self):\n",
    "        unzip_file = self.config.unzip_dir\n",
    "\n",
    "        os.makedirs(unzip_file, exist_ok=True)\n",
    "        with zipfile.ZipFile(self.config.local_data_files, 'r') as zip_ref:\n",
    "            zip_ref.extractall(unzip_file)\n",
    "            logger.info(f\"Extracted zip file to : {unzip_file}\")\n"
   ]
  },
  {
   "cell_type": "code",
   "execution_count": null,
   "metadata": {},
   "outputs": [
    {
     "name": "stdout",
     "output_type": "stream",
     "text": [
      "[2024-11-01 16:30:47,137 : INFO :common: yaml file: config\\config.yaml loaded successfully] \n",
      "[2024-11-01 16:30:47,139 : INFO :common: yaml file: params.yaml loaded successfully] \n",
      "[2024-11-01 16:30:47,140 : INFO :common: created directory at: artifacts] \n",
      "[2024-11-01 16:30:47,142 : INFO :common: created directory at: artifacts/data_ingestion] \n",
      "[2024-11-01 16:30:48,182 : INFO :2227830658:  artifacts/data_ingestion/data.zip downloaded with following info : \n",
      " Connection: close\n",
      "Content-Length: 68764\n",
      "Cache-Control: max-age=300\n",
      "Content-Security-Policy: default-src 'none'; style-src 'unsafe-inline'; sandbox\n",
      "Content-Type: application/zip\n",
      "ETag: \"f23f016b565ccf939349a8d83adbe9aa4f381396168f0b43c8a02c7cf14715ef\"\n",
      "Strict-Transport-Security: max-age=31536000\n",
      "X-Content-Type-Options: nosniff\n",
      "X-Frame-Options: deny\n",
      "X-XSS-Protection: 1; mode=block\n",
      "X-GitHub-Request-Id: 4844:18724C:13CE09:1AA56A:6724B4DF\n",
      "Accept-Ranges: bytes\n",
      "Date: Fri, 01 Nov 2024 11:00:48 GMT\n",
      "Via: 1.1 varnish\n",
      "X-Served-By: cache-maa10237-MAA\n",
      "X-Cache: MISS\n",
      "X-Cache-Hits: 0\n",
      "X-Timer: S1730458848.782445,VS0,VE346\n",
      "Vary: Authorization,Accept-Encoding,Origin\n",
      "Access-Control-Allow-Origin: *\n",
      "Cross-Origin-Resource-Policy: cross-origin\n",
      "X-Fastly-Request-ID: 0a7e072ff6019154e4b24fe04bfe7518e8282d6c\n",
      "Expires: Fri, 01 Nov 2024 11:05:48 GMT\n",
      "Source-Age: 0\n",
      "\n",
      "] \n",
      "[2024-11-01 16:30:48,201 : INFO :2227830658: Extracted zip file to : artifacts/data_ingestion] \n"
     ]
    }
   ],
   "source": [
    "try:\n",
    "    config = ConfigurationManager()\n",
    "    data_ingestion_config = config.get_data_injestion()\n",
    "    data_ingestion = DataIngestion(config=data_ingestion_config)\n",
    "    data_ingestion.download_data()\n",
    "    data_ingestion.extract_zip_file()\n",
    "\n",
    "\n",
    "\n",
    "except Exception as e:\n",
    "    raise e\n"
   ]
  },
  {
   "cell_type": "code",
   "execution_count": null,
   "metadata": {},
   "outputs": [],
   "source": []
  }
 ],
 "metadata": {
  "kernelspec": {
   "display_name": "env",
   "language": "python",
   "name": "python3"
  },
  "language_info": {
   "codemirror_mode": {
    "name": "ipython",
    "version": 3
   },
   "file_extension": ".py",
   "mimetype": "text/x-python",
   "name": "python",
   "nbconvert_exporter": "python",
   "pygments_lexer": "ipython3",
   "version": "3.12.3"
  }
 },
 "nbformat": 4,
 "nbformat_minor": 2
}
